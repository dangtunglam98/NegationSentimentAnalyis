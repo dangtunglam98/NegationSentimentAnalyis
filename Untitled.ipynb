{
 "cells": [
  {
   "cell_type": "code",
   "execution_count": 7,
   "metadata": {},
   "outputs": [
    {
     "name": "stderr",
     "output_type": "stream",
     "text": [
      "[nltk_data] Downloading package sentiwordnet to\n",
      "[nltk_data]     /home/lamdang98/nltk_data...\n",
      "[nltk_data]   Unzipping corpora/sentiwordnet.zip.\n"
     ]
    }
   ],
   "source": [
    "from nltk.wsd import lesk\n",
    "import nltk\n",
    "nltk.download('sentiwordnet')\n",
    "from nltk.corpus import wordnet as wn\n",
    "from nltk.corpus import sentiwordnet as swn"
   ]
  },
  {
   "cell_type": "code",
   "execution_count": 70,
   "metadata": {},
   "outputs": [
    {
     "name": "stdout",
     "output_type": "stream",
     "text": [
      "['I', 'wanted', 'something', 'this', 'small', 'to', 'mount', 'on', 'the', 'back', 'of', 'filagree', 'wood', 'piece', 'I', 'cut', '.', 'They', 'could', 'then', 'be', 'mounted', 'on', 'refrigerators', '.', 'Works', 'well', '.', 'Should', 'be', 'able', 'to', 'remove', 'the', 'pieces', 'from', 'the', 'refrig', 'without', 'breaking', 'yet', 'will', 'hold', 'well', '.']\n"
     ]
    }
   ],
   "source": [
    "string = \"I wanted something this small to mount on the back of filagree wood piece I cut . They could then be mounted on refrigerators . Works well . Should be able to remove the pieces from the refrig without breaking yet will hold well .\"\n",
    "review = nltk.word_tokenize(string)\n",
    "print(review)"
   ]
  },
  {
   "cell_type": "code",
   "execution_count": 71,
   "metadata": {},
   "outputs": [
    {
     "name": "stdout",
     "output_type": "stream",
     "text": [
      "I\n",
      "<iodine.n.01: PosScore=0.0 NegScore=0.0>\n",
      "wanted\n",
      "<want.v.04: PosScore=0.0 NegScore=0.0>\n",
      "small\n",
      "<small.n.01: PosScore=0.0 NegScore=0.0>\n",
      "mount\n",
      "<hop_on.v.01: PosScore=0.0 NegScore=0.0>\n",
      "on\n",
      "<on.r.03: PosScore=0.0 NegScore=0.0>\n",
      "back\n",
      "<back.n.03: PosScore=0.0 NegScore=0.0>\n",
      "filagree\n",
      "<filigree.n.01: PosScore=0.0 NegScore=0.25>\n",
      "wood\n",
      "<wood.n.06: PosScore=0.0 NegScore=0.0>\n",
      "piece\n",
      "<patch.v.01: PosScore=0.0 NegScore=0.0>\n",
      "I\n",
      "<iodine.n.01: PosScore=0.0 NegScore=0.0>\n",
      "cut\n",
      "<cut.n.06: PosScore=0.0 NegScore=0.0>\n",
      "then\n",
      "<then.s.01: PosScore=0.0 NegScore=0.0>\n",
      "be\n",
      "<equal.v.01: PosScore=0.125 NegScore=0.125>\n",
      "mounted\n",
      "<hop_on.v.01: PosScore=0.0 NegScore=0.0>\n",
      "on\n",
      "<on.r.03: PosScore=0.0 NegScore=0.0>\n",
      "refrigerators\n",
      "<refrigerator.n.01: PosScore=0.0 NegScore=0.0>\n",
      "Works\n",
      "<work.n.05: PosScore=0.0 NegScore=0.0>\n",
      "well\n",
      "<well.n.04: PosScore=0.0 NegScore=0.0>\n",
      "be\n",
      "<equal.v.01: PosScore=0.125 NegScore=0.125>\n",
      "able\n",
      "<able.s.02: PosScore=0.125 NegScore=0.0>\n",
      "remove\n",
      "<remove.v.08: PosScore=0.0 NegScore=0.0>\n",
      "pieces\n",
      "<patch.v.01: PosScore=0.0 NegScore=0.0>\n",
      "breaking\n",
      "<breakage.n.03: PosScore=0.0 NegScore=0.0>\n",
      "yet\n",
      "<so_far.r.01: PosScore=0.0 NegScore=0.0>\n",
      "will\n",
      "<will.n.03: PosScore=0.0 NegScore=0.0>\n",
      "hold\n",
      "<restrain.v.03: PosScore=0.0 NegScore=0.0>\n",
      "well\n",
      "<well.n.04: PosScore=0.0 NegScore=0.0>\n"
     ]
    }
   ],
   "source": [
    "for word in review:\n",
    "    token = lesk(review, word)\n",
    "    if token is not None:\n",
    "        token_name = token.name()\n",
    "        print(word)\n",
    "        print(swn.senti_synset(token_name))"
   ]
  },
  {
   "cell_type": "code",
   "execution_count": 59,
   "metadata": {},
   "outputs": [
    {
     "name": "stdout",
     "output_type": "stream",
     "text": [
      "magnet.n.01\n",
      "<magnet.n.01: PosScore=0.0 NegScore=0.0>\n"
     ]
    }
   ],
   "source": [
    "print(lesk(review, 'magnet').name())\n",
    "print(swn.senti_synset('magnet.n.01'))"
   ]
  },
  {
   "cell_type": "code",
   "execution_count": 13,
   "metadata": {},
   "outputs": [
    {
     "name": "stderr",
     "output_type": "stream",
     "text": [
      "[nltk_data] Downloading package punkt to /home/lamdang98/nltk_data...\n",
      "[nltk_data]   Unzipping tokenizers/punkt.zip.\n"
     ]
    }
   ],
   "source": [
    "nltk.download('punkt')\n",
    "tokens = nltk.word_tokenize(\" \".join(review))"
   ]
  },
  {
   "cell_type": "code",
   "execution_count": 17,
   "metadata": {},
   "outputs": [
    {
     "name": "stderr",
     "output_type": "stream",
     "text": [
      "[nltk_data] Downloading package averaged_perceptron_tagger to\n",
      "[nltk_data]     /home/lamdang98/nltk_data...\n",
      "[nltk_data]   Unzipping taggers/averaged_perceptron_tagger.zip.\n"
     ]
    },
    {
     "data": {
      "text/plain": [
       "[('not', 'RB'),\n",
       " ('only', 'RB'),\n",
       " ('i', 'VBP'),\n",
       " ('like', 'IN'),\n",
       " ('cake', 'NN'),\n",
       " (',', ','),\n",
       " ('i', 'NN'),\n",
       " ('i', 'VBP'),\n",
       " ('love', 'VBP'),\n",
       " ('it', 'PRP')]"
      ]
     },
     "execution_count": 17,
     "metadata": {},
     "output_type": "execute_result"
    }
   ],
   "source": [
    "nltk.download('averaged_perceptron_tagger')\n",
    "nltk.pos_tag(tokens)"
   ]
  },
  {
   "cell_type": "code",
   "execution_count": null,
   "metadata": {},
   "outputs": [],
   "source": []
  }
 ],
 "metadata": {
  "kernelspec": {
   "display_name": "Python 3",
   "language": "python",
   "name": "python3"
  },
  "language_info": {
   "codemirror_mode": {
    "name": "ipython",
    "version": 3
   },
   "file_extension": ".py",
   "mimetype": "text/x-python",
   "name": "python",
   "nbconvert_exporter": "python",
   "pygments_lexer": "ipython3",
   "version": "3.7.3"
  }
 },
 "nbformat": 4,
 "nbformat_minor": 2
}
